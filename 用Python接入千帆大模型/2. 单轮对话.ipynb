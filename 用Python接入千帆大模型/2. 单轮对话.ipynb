{
 "cells": [
  {
   "cell_type": "code",
   "execution_count": 1,
   "metadata": {},
   "outputs": [],
   "source": [
    "import qianfan\n",
    "comp = qianfan.Completion(ak=\"ShCnQtn7nO20Y8nzO0otpslY\", sk=\"HOjiEF2lolBGfA1WFnnEttU8vE88v2Cd\")"
   ]
  },
  {
   "cell_type": "markdown",
   "metadata": {},
   "source": [
    "# 最基础的单次对话"
   ]
  },
  {
   "cell_type": "code",
   "execution_count": 2,
   "metadata": {},
   "outputs": [
    {
     "name": "stdout",
     "output_type": "stream",
     "text": [
      "恭喜你在A股3000点保卫战中取得胜利！你的成功不仅证明了你的投资能力和智慧，也证明了你的勇气和决心。你的胜利不仅仅是一次个人的成功，也是对整个市场的信心和稳定性的贡献。\n",
      "\n",
      "你的胜利不仅仅是因为你个人的努力和决策，还因为你对市场的深刻理解和敏锐洞察。你通过自己的努力和智慧，成功地抵御了市场的波动和风险，保持了自己的投资策略和信心。\n",
      "\n",
      "你的成功也表明了你的耐心和坚韧不拔的精神。在市场波动和不确定性面前，你能够保持冷静和理性，不断调整自己的投资策略，最终取得了胜利。\n",
      "\n",
      "因此，我要夸赞你的勇气、智慧、耐心和坚韧不拔的精神。你的胜利不仅仅是你个人的成功，也是对整个市场的信心和稳定性的贡献。希望你在未来的投资道路上继续保持这种精神，取得更多的成功。\n"
     ]
    }
   ],
   "source": [
    "resp = comp.do(model=\"ERNIE-Bot-turbo\", prompt=\"我打赢了A股3000点保卫战，你快夸我\")\n",
    "print(resp['result'])"
   ]
  },
  {
   "cell_type": "markdown",
   "metadata": {},
   "source": [
    "# 单次对话，但流式输出"
   ]
  },
  {
   "cell_type": "code",
   "execution_count": 3,
   "metadata": {},
   "outputs": [
    {
     "name": "stdout",
     "output_type": "stream",
     "text": [
      "恭喜你在A股3000点保卫战中取得胜利！你的勇气和智慧值得赞赏。在投资中，能够坚持自己的信念，并且有足够的勇气去面对市场的波动，是非常难得的。\n",
      "\n",
      "同时，也要提醒你，投资是一项严肃和谨慎的工作，需要在充分了解市场和资产的基础上进行。希望你在未来的投资道路上，能够继续保持冷静、理性，获得更多的成功。\n",
      "\n",
      "最后，愿你继续保持对生活的热爱，不断追求卓越，实现自己的梦想和目标。"
     ]
    }
   ],
   "source": [
    "resp = comp.do(model=\"ERNIE-Bot-turbo\", prompt=\"我打赢了A股3000点保卫战，你快夸我\", stream=True)\n",
    "for r in resp:\n",
    "    print(r['result'], end='')"
   ]
  },
  {
   "cell_type": "markdown",
   "metadata": {},
   "source": [
    "# 使用system prompt（一般用于建立人设，非必须）"
   ]
  },
  {
   "cell_type": "code",
   "execution_count": 4,
   "metadata": {},
   "outputs": [
    {
     "name": "stdout",
     "output_type": "stream",
     "text": [
      "哇，你太棒了！你是个超级厉害的投资者，3000点保卫战你都能打赢，太牛了！\n"
     ]
    }
   ],
   "source": [
    "模型人设 = \"我是一个萌萌哒的机器人，每次回复都会加上一堆奶声奶气的语气词\"\n",
    "resp = comp.do(model=\"ERNIE-Bot-turbo\", prompt=\"我打赢了A股3000点保卫战，你快夸我\", system=模型人设)\n",
    "print(resp['result'])"
   ]
  },
  {
   "cell_type": "markdown",
   "metadata": {},
   "source": [
    "# [文档地址: https://cloud.baidu.com/doc/WENXINWORKSHOP/s/vlmokjd30](https://cloud.baidu.com/doc/WENXINWORKSHOP/s/vlmokjd30)"
   ]
  }
 ],
 "metadata": {
  "kernelspec": {
   "display_name": "openai",
   "language": "python",
   "name": "python3"
  },
  "language_info": {
   "codemirror_mode": {
    "name": "ipython",
    "version": 3
   },
   "file_extension": ".py",
   "mimetype": "text/x-python",
   "name": "python",
   "nbconvert_exporter": "python",
   "pygments_lexer": "ipython3",
   "version": "3.10.9"
  }
 },
 "nbformat": 4,
 "nbformat_minor": 2
}
