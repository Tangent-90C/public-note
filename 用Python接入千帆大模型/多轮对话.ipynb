{
 "cells": [
  {
   "cell_type": "code",
   "execution_count": null,
   "metadata": {},
   "outputs": [],
   "source": [
    "import qianfan\n",
    "chat_comp = qianfan.ChatCompletion(ak=\"wMA8Ifco3x3H6FrVc5oVkHOR\", sk=\"DySPfzYSBQRxNz2YbjR5aDf65UKXRmys\")"
   ]
  },
  {
   "cell_type": "markdown",
   "metadata": {},
   "source": [
    "# 多轮对话实现（单轮对话）"
   ]
  },
  {
   "cell_type": "markdown",
   "metadata": {},
   "source": [
    "聊天记录 = [\n",
    "    {\n",
    "        \"role\": \"user\",\n",
    "        \"content\": \"ChatGPT中的GPT，英文全称是什么？\"\n",
    "    }\n",
    "]\n",
    "\n",
    "resp = chat_comp.do(model=\"ERNIE-Bot-turbo\",\n",
    "                    messages=聊天记录)\n",
    "\n",
    "print(resp['result'])"
   ]
  },
  {
   "cell_type": "markdown",
   "metadata": {},
   "source": [
    "# 多轮对话实现（多轮对话）"
   ]
  },
  {
   "cell_type": "markdown",
   "metadata": {},
   "source": [
    "聊天记录 = [\n",
    "    {\n",
    "        \"role\": \"user\",\n",
    "        \"content\": \"ChatGPT中的GPT，英文全称是什么？\"\n",
    "    },\n",
    "    {\n",
    "        \"role\": \"assistant\",\n",
    "        \"content\": \"我知道，是Generative Pre-trained Transformer。\"\n",
    "    },\n",
    "    {\n",
    "        \"role\": \"user\",\n",
    "        \"content\": \"你错了，GPT是Global Positioning Technology。\"\n",
    "    },\n",
    "]\n",
    "\n",
    "# 多轮对话\n",
    "resp = chat_comp.do(model=\"ERNIE-Bot-turbo\",\n",
    "                    messages=聊天记录)\n",
    "print(resp['result'])"
   ]
  },
  {
   "cell_type": "markdown",
   "metadata": {},
   "source": [
    "# 使用system prompt（一般用于建立人设，非必须）"
   ]
  },
  {
   "cell_type": "markdown",
   "metadata": {},
   "source": [
    "模型人设 = \"我是一个萌萌哒的机器人，每次回复都会加上一堆奶声奶气的语气词\"\n",
    "聊天记录 = [\n",
    "    {\n",
    "        \"role\": \"user\",\n",
    "        \"content\": \"你好，请问你是谁？\"\n",
    "    }\n",
    "]\n",
    "\n",
    "# 多轮对话\n",
    "resp = chat_comp.do(model=\"ERNIE-Bot-turbo\",\n",
    "                    system=模型人设,\n",
    "                    messages=聊天记录)\n",
    "print(resp['result'])"
   ]
  },
  {
   "cell_type": "markdown",
   "metadata": {},
   "source": [
    "# [文档地址: https://cloud.baidu.com/doc/WENXINWORKSHOP/s/xlmokikxe](https://cloud.baidu.com/doc/WENXINWORKSHOP/s/xlmokikxe)"
   ]
  },
  {
   "cell_type": "markdown",
   "metadata": {},
   "source": []
  }
 ],
 "metadata": {
  "language_info": {
   "name": "python"
  }
 },
 "nbformat": 4,
 "nbformat_minor": 2
}
