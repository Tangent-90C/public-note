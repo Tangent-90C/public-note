{
 "cells": [
  {
   "cell_type": "markdown",
   "source": [],
   "metadata": {
    "collapsed": false
   },
   "id": "9b82bd8f983ad672"
  },
  {
   "cell_type": "markdown",
   "source": [
    "# 简单跑点代码\n",
    "## 1. 本地跑个BLIP模型做tool"
   ],
   "metadata": {
    "collapsed": false
   },
   "id": "9d079c38ed4a828d"
  },
  {
   "cell_type": "code",
   "execution_count": 1,
   "id": "initial_id",
   "metadata": {
    "collapsed": true,
    "ExecuteTime": {
     "end_time": "2024-01-05T12:05:46.514102Z",
     "start_time": "2024-01-05T12:05:43.089539700Z"
    }
   },
   "outputs": [],
   "source": [
    "from agentlego import list_tools, load_tool"
   ]
  },
  {
   "cell_type": "code",
   "outputs": [
    {
     "name": "stdout",
     "output_type": "stream",
     "text": [
      "['Calculator', 'CannyTextToImage', 'ImageToCanny', 'DepthTextToImage', 'ImageToDepth', 'ImageExpansion', 'ImageStylization', 'ObjectRemove', 'ObjectReplace', 'HumanBodyPose', 'HumanFaceLandmark', 'PoseToImage', 'ImageToScribble', 'ScribbleTextToImage', 'ImageCaption', 'TextToImage', 'AudioImageToImage', 'AudioTextToImage', 'AudioToImage', 'ThermalToImage', 'ObjectDetection', 'TextToBbox', 'OCR', 'GoogleSearch', 'SegmentAnything', 'SegmentObject', 'SemanticSegmentation', 'SpeechToText', 'TextToSpeech', 'Translation', 'VisualQuestionAnswering']\n"
     ]
    }
   ],
   "source": [
    "print(list_tools())  # list tools in AgentLego"
   ],
   "metadata": {
    "collapsed": false,
    "ExecuteTime": {
     "end_time": "2024-01-05T12:05:46.531145300Z",
     "start_time": "2024-01-05T12:05:46.516110500Z"
    }
   },
   "id": "bf3d8028cfe580a2",
   "execution_count": 2
  },
  {
   "cell_type": "code",
   "outputs": [
    {
     "name": "stdout",
     "output_type": "stream",
     "text": [
      "A useful tool that returns a brief description of the input image. Args: image (image path)\n"
     ]
    },
    {
     "name": "stderr",
     "output_type": "stream",
     "text": [
      "The tokenizer class you load from this checkpoint is not the same type as the class this function is called from. It may result in unexpected tokenization. \n",
      "The tokenizer class you load from this checkpoint is 'BertTokenizer'. \n",
      "The class this function is called from is 'BlipTokenizer'.\n"
     ]
    },
    {
     "name": "stdout",
     "output_type": "stream",
     "text": [
      "Loads checkpoint by http backend from path: https://download.openmmlab.com/mmclassification/v1/blip/blip-base_3rdparty_coco-caption_20230419-a5b71af3.pth\n"
     ]
    },
    {
     "data": {
      "text/plain": "Output()",
      "application/vnd.jupyter.widget-view+json": {
       "version_major": 2,
       "version_minor": 0,
       "model_id": "1ccbac5d0a1d485f8d11ade7434b627b"
      }
     },
     "metadata": {},
     "output_type": "display_data"
    },
    {
     "data": {
      "text/plain": "",
      "text/html": "<pre style=\"white-space:pre;overflow-x:auto;line-height:normal;font-family:Menlo,'DejaVu Sans Mono',consolas,'Courier New',monospace\"></pre>\n"
     },
     "metadata": {},
     "output_type": "display_data"
    }
   ],
   "source": [
    "image_caption_tool = load_tool('ImageCaption', device='cuda')\n",
    "print(image_caption_tool.description)\n",
    "image = './examples/demo.png'\n",
    "\n",
    "caption = image_caption_tool(image)"
   ],
   "metadata": {
    "collapsed": false,
    "ExecuteTime": {
     "end_time": "2024-01-05T12:05:55.549447500Z",
     "start_time": "2024-01-05T12:05:46.528156800Z"
    }
   },
   "id": "76400a05b4f2bd2e",
   "execution_count": 3
  },
  {
   "cell_type": "markdown",
   "source": [
    "这个是被BLIP“解释”的图片\n",
    "![](./demo.png)\n",
    "下面是BLIP的输出结果"
   ],
   "metadata": {
    "collapsed": false
   },
   "id": "b32c9b913514d401"
  },
  {
   "cell_type": "code",
   "outputs": [
    {
     "data": {
      "text/plain": "'a puppy and a cat sitting on a blanket'"
     },
     "execution_count": 4,
     "metadata": {},
     "output_type": "execute_result"
    }
   ],
   "source": [
    "caption"
   ],
   "metadata": {
    "collapsed": false,
    "ExecuteTime": {
     "end_time": "2024-01-05T12:05:55.555023Z",
     "start_time": "2024-01-05T12:05:55.551445600Z"
    }
   },
   "id": "1dc852ed29d88cce",
   "execution_count": 4
  },
  {
   "cell_type": "markdown",
   "source": [
    "## 2. 简单跑个计算器的tool"
   ],
   "metadata": {
    "collapsed": false
   },
   "id": "6b6ad5aae2805879"
  },
  {
   "cell_type": "code",
   "outputs": [
    {
     "data": {
      "text/plain": "'0.36787944117144233'"
     },
     "execution_count": 5,
     "metadata": {},
     "output_type": "execute_result"
    }
   ],
   "source": [
    "from agentlego.apis import load_tool\n",
    "\n",
    "# load tool\n",
    "tool = load_tool('Calculator')\n",
    "\n",
    "# apply tool\n",
    "tool('e ** cos(pi)')"
   ],
   "metadata": {
    "collapsed": false,
    "ExecuteTime": {
     "end_time": "2024-01-05T12:05:55.563717900Z",
     "start_time": "2024-01-05T12:05:55.557021500Z"
    }
   },
   "id": "1e9a82d676cc72fb",
   "execution_count": 5
  },
  {
   "cell_type": "markdown",
   "source": [
    "## 2.1 导入OpenAI的KEY"
   ],
   "metadata": {
    "collapsed": false
   },
   "id": "a2a02438b48a444c"
  },
  {
   "cell_type": "code",
   "outputs": [],
   "source": [
    "import os\n",
    "os.environ['OPENAI_API_KEY'] = 'sk-xxxxxxxxxx'"
   ],
   "metadata": {
    "collapsed": false,
    "ExecuteTime": {
     "end_time": "2024-01-05T12:05:55.573657800Z",
     "start_time": "2024-01-05T12:05:55.564732400Z"
    }
   },
   "id": "449ef635668f3881",
   "execution_count": 6
  },
  {
   "cell_type": "markdown",
   "source": [
    "## 3. 将agentlego的计算器转换为lagent的工具"
   ],
   "metadata": {
    "collapsed": false
   },
   "id": "611940c4f0d17b95"
  },
  {
   "cell_type": "code",
   "outputs": [
    {
     "name": "stdout",
     "output_type": "stream",
     "text": [
      "------\n",
      "Thought: To determine which number is greater, we can compare their values.\n",
      "\n",
      "Action: Calculator\n",
      "Action Input: {\"expression\": \"pi > 3.2\"}\n",
      "------\n",
      "Response:False\n",
      "\n",
      "------\n",
      "Thought: The result of the comparison is False, which means that 3.2 is greater than pi.\n",
      "\n",
      "Final Answer: 3.2 is greater than pi.\n"
     ]
    }
   ],
   "source": [
    "from agentlego.apis import load_tool\n",
    "from lagent import ReAct, GPTAPI, ActionExecutor\n",
    "\n",
    "# load tools and build agent\n",
    "# please set `OPENAI_API_KEY` in your environment variable.\n",
    "tool = load_tool('Calculator').to_lagent()\n",
    "agent = ReAct(GPTAPI(temperature=0.), action_executor=ActionExecutor([tool]))\n",
    "\n",
    "# agent running with the tool.\n",
    "ret = agent.chat(f'pi and 3.2, which is greater?')\n",
    "for step in ret.inner_steps[1:]:\n",
    "    print('------')\n",
    "    print(step['content'])"
   ],
   "metadata": {
    "collapsed": false,
    "ExecuteTime": {
     "end_time": "2024-01-05T12:06:03.169827300Z",
     "start_time": "2024-01-05T12:05:55.571151700Z"
    }
   },
   "id": "1109eb54893bb170",
   "execution_count": 7
  },
  {
   "cell_type": "markdown",
   "source": [
    "## 4. 将agentlego的计算器转换为langchain的工具"
   ],
   "metadata": {
    "collapsed": false
   },
   "id": "3710f0364412400e"
  },
  {
   "cell_type": "code",
   "outputs": [
    {
     "name": "stdout",
     "output_type": "stream",
     "text": [
      "\n",
      "\n",
      "\u001B[1m> Entering new AgentExecutor chain...\u001B[0m\n",
      "\u001B[32;1m\u001B[1;3mThe area of a triangle can be calculated using Heron's formula, which is sqrt[s(s-a)(s-b)(s-c)], where s is the semi-perimeter of the triangle, and a, b, and c are the sides of the triangle. In this case, a=3cm, b=4cm, c=5cm, and s=(a+b+c)/2=6cm. So, the area of the triangle is sqrt[6(6-3)(6-4)(6-5)]. Let's calculate this. \n",
      "\n",
      "Action:\n",
      "```\n",
      "{\n",
      "  \"action\": \"Calculator\",\n",
      "  \"action_input\": {\n",
      "    \"expression\": \"((6*(6-3)*(6-4)*(6-5))**0.5)\"\n",
      "  }\n",
      "}\n",
      "```\u001B[0m\n",
      "Observation: \u001B[36;1m\u001B[1;3m6.0\u001B[0m\n",
      "Thought:\u001B[32;1m\u001B[1;3mThe calculation result is 6.0, which means the area of the triangle is 6 square centimeters. Now I will provide this answer to the user. \n",
      "\n",
      "Action:\n",
      "```\n",
      "{\n",
      "  \"action\": \"Final Answer\",\n",
      "  \"action_input\": \"这个三角形的面积是6平方厘米。\"\n",
      "}\n",
      "```\u001B[0m\n",
      "\n",
      "\u001B[1m> Finished chain.\u001B[0m\n"
     ]
    },
    {
     "data": {
      "text/plain": "'这个三角形的面积是6平方厘米。'"
     },
     "execution_count": 8,
     "metadata": {},
     "output_type": "execute_result"
    }
   ],
   "source": [
    "from agentlego.apis import load_tool\n",
    "from langchain.agents import AgentType, initialize_agent\n",
    "from langchain.chains.conversation.memory import ConversationBufferMemory\n",
    "from langchain.chat_models import ChatOpenAI\n",
    "\n",
    "# 加载要使用的工具。\n",
    "tool = load_tool('Calculator').to_langchain()\n",
    "\n",
    "# 构建 LangChain 智能体链\n",
    "model = ChatOpenAI(temperature=0., model='gpt-4')\n",
    "memory = ConversationBufferMemory(memory_key='chat_history', return_messages=True)\n",
    "agent = initialize_agent(\n",
    "   agent=AgentType.STRUCTURED_CHAT_ZERO_SHOT_REACT_DESCRIPTION,\n",
    "   llm=model,\n",
    "   tools=[tool],\n",
    "   memory=memory,\n",
    "   verbose=True,\n",
    ")\n",
    "\n",
    "user_input = '如果三角形的边长分别为3cm、4cm和5cm，请用工具计算三角形的面积。'\n",
    "agent.run(input=user_input)"
   ],
   "metadata": {
    "collapsed": false,
    "ExecuteTime": {
     "end_time": "2024-01-05T12:06:30.178084Z",
     "start_time": "2024-01-05T12:06:03.169827300Z"
    }
   },
   "id": "14359c8fbdd9ce73",
   "execution_count": 8
  }
 ],
 "metadata": {
  "kernelspec": {
   "display_name": "Python 3",
   "language": "python",
   "name": "python3"
  },
  "language_info": {
   "codemirror_mode": {
    "name": "ipython",
    "version": 2
   },
   "file_extension": ".py",
   "mimetype": "text/x-python",
   "name": "python",
   "nbconvert_exporter": "python",
   "pygments_lexer": "ipython2",
   "version": "2.7.6"
  }
 },
 "nbformat": 4,
 "nbformat_minor": 5
}
